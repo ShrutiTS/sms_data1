{
 "cells": [
  {
   "cell_type": "code",
   "execution_count": 2,
   "id": "1a5f089a-8e46-4756-bfa9-3805cd7330ae",
   "metadata": {},
   "outputs": [
    {
     "name": "stdout",
     "output_type": "stream",
     "text": [
      "                                      body_translated    merchant\n",
      "0   INR 6 debited from your YES BANK prepaid card ...    BEST YPP\n",
      "1   INR 6 debited from your YES BANK prepaid card ...    BEST YPP\n",
      "2   INR 6 debited from your YES BANK prepaid card ...    BEST YPP\n",
      "3   INR 6 debited from your YES BANK prepaid card ...    BEST YPP\n",
      "4   Rs.40 transferred from A/c ...7472 to:UPI/3895...        None\n",
      "5   Rs.10000 transferred from A/c ...7472 to:UPI/9...        None\n",
      "6   Rs.30 transferred from A/c ...7472 to:UPI/6651...        None\n",
      "7          G-725832 is your Google verification code.       code.\n",
      "8   Sent Rs.20.00 from Kotak Bank AC X8250 to mmmo...  mmmocl.zkp\n",
      "9   ANGEL ONE LIMITED on 14-12-24 reported your Fu...        None\n",
      "10  Sent Rs.200.00 from Kotak Bank AC X8250 to q49...           q\n",
      "11  Sent Rs.20.00 from Kotak Bank AC X8250 to mmmo...  mmmocl.zkp\n",
      "12  Sent Rs.250.00 from Kotak Bank AC X8250 to nat...      nathan\n",
      "13  Sent Rs.20.00 from Kotak Bank AC X8250 to mmmo...  mmmocl.zkp\n",
      "14  Sent Rs.16.00 from Kotak Bank AC X8250 to q571...           q\n",
      "15  Sent Rs.30.00 from Kotak Bank AC X8250 to 8655...        None\n",
      "16  Sent Rs.20.00 from Kotak Bank AC X8250 to mmmo...  mmmocl.zkp\n",
      "17  Sent Rs.20.00 from Kotak Bank AC X8250 to mmmo...  mmmocl.zkp\n",
      "18  Sent Rs.20.00 from Kotak Bank AC X8250 to mmmo...  mmmocl.zkp\n",
      "19  Sent Rs.28.00 from Kotak Bank AC X8250 to bhar...   bharatpe.\n"
     ]
    }
   ],
   "source": [
    "import pandas as pd\n",
    "import re\n",
    "\n",
    "# Load your CSV file\n",
    "df = pd.read_csv(\"C:/JupyterNB/updated_file.csv\")\n",
    "\n",
    "# Regex pattern to exclude \"your YES BANK\" and extract valid merchants\n",
    "#merchant_pattern = r\"(?:on|at|to|via|from)\\s+(?!your\\sYES\\sBANK)([A-Za-z&.,-]+(?:\\s[A-Za-z&.,-]+)*)\"\n",
    "merchant_pattern = r\"(?:on|at|to|via|from)\\s+(?!your\\sYES\\sBANK|Kotak\\sBANK|HDFC\\sBANK|ICICI\\sBANK|SBI\\sBANK|.*\\sBANK)([A-Za-z&.,-]+(?:\\s[A-Za-z&.,-]+)*)\"\n",
    "\n",
    "\n",
    "# Function to extract clean merchant names\n",
    "def extract_merchant(text):\n",
    "    match = re.search(merchant_pattern, text, re.IGNORECASE)\n",
    "    if match:\n",
    "        merchant = match.group(1).strip()\n",
    "        # Additional cleanup for trailing noise\n",
    "        merchant = re.sub(r\"(COLLECT.*|TRANSACTION.*|debited.*|credited.*)\", \"\", merchant, flags=re.IGNORECASE).strip()\n",
    "        return merchant\n",
    "    return None\n",
    "\n",
    "# Apply the function\n",
    "df['merchant'] = df['body_translated'].apply(lambda x: extract_merchant(str(x)))\n",
    "\n",
    "# Save the updated file\n",
    "df.to_csv(\"sms_data_with_correct_merchants.csv\", index=False)\n",
    "\n",
    "# Print a sample for verification\n",
    "print(df[['body_translated', 'merchant']].head(20))\n"
   ]
  },
  {
   "cell_type": "code",
   "execution_count": null,
   "id": "b7649655-d166-4ad5-af45-5e31545e155e",
   "metadata": {},
   "outputs": [],
   "source": []
  },
  {
   "cell_type": "code",
   "execution_count": null,
   "id": "17f62d49-a83f-4b88-8932-f9acf3622fa3",
   "metadata": {},
   "outputs": [],
   "source": []
  }
 ],
 "metadata": {
  "kernelspec": {
   "display_name": "Python 3 (ipykernel)",
   "language": "python",
   "name": "python3"
  },
  "language_info": {
   "codemirror_mode": {
    "name": "ipython",
    "version": 3
   },
   "file_extension": ".py",
   "mimetype": "text/x-python",
   "name": "python",
   "nbconvert_exporter": "python",
   "pygments_lexer": "ipython3",
   "version": "3.11.4"
  }
 },
 "nbformat": 4,
 "nbformat_minor": 5
}
